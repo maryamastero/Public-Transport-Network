{
 "cells": [
  {
   "cell_type": "code",
   "execution_count": 1,
   "metadata": {},
   "outputs": [],
   "source": [
    "import networkx as nx\n",
    "import matplotlib.pyplot as plt\n",
    "import numpy as np\n",
    "import pandas as pd\n"
   ]
  },
  {
   "cell_type": "code",
   "execution_count": 2,
   "metadata": {},
   "outputs": [],
   "source": [
    "transport_type = {-1: 'walking',0: 'tram', 1: 'subway', 2: 'rail',\n",
    "                  3: 'bus', 4: 'ferry', 5: 'cablecar', 6: 'gondola', 7: 'funicular'}"
   ]
  },
  {
   "cell_type": "code",
   "execution_count": 3,
   "metadata": {},
   "outputs": [],
   "source": [
    "def get_list_cities_names():\n",
    "    cities =[ 'adelaide', 'antofagasta','athens', 'belfast', 'berlin', 'bordeaux', 'brisbane', 'canberra',\n",
    "              'detroit', 'dublin', 'grenoble', 'helsinki', 'kuopio', 'lisbon', 'luxembourg', 'melbourne',\n",
    "              'nantes', 'palermo', 'paris', 'prague', 'rennes', 'rome', 'sydney', 'toulouse', 'turku',\n",
    "              'venice', 'winnipeg']\n",
    "    return cities"
   ]
  },
  {
   "cell_type": "code",
   "execution_count": 4,
   "metadata": {},
   "outputs": [],
   "source": [
    "def load_nodes(net,path):\n",
    "    '''\n",
    "    Load node from network_nodes.csv (nodes are stops)\n",
    "    \n",
    "    '''\n",
    "    nodes_info = pd.read_csv(path, delimiter=\";\")\n",
    "    nodes_df = pd.DataFrame(nodes_info, columns=['stop_I', 'lat', 'lon', 'name'])\n",
    "    for index, row in nodes_df.iterrows():\n",
    "        net.add_node(row['stop_I'], coords=(row['lat'], row['lon']), pos=(row['lon'], row['lat']))"
   ]
  },
  {
   "cell_type": "code",
   "execution_count": 16,
   "metadata": {},
   "outputs": [],
   "source": [
    "def load_edges_pspace(net, path):\n",
    "    '''\n",
    "    Read edges from network_temporal_day.csv, create edges if can reach from one node to next \n",
    "    one without changing the means of transport \n",
    "    \n",
    "    '''\n",
    "    \n",
    "    data = pd.read_csv(path, delimiter=\";\")\n",
    "    data_df = pd.DataFrame(data, columns=['from_stop_I', 'to_stop_I', 'dep_time_ut','arr_time_ut',\n",
    "                                                 'route_type','trip_I','seq','route_I'])\n",
    "    paths = {}\n",
    "    path_number = 0\n",
    "    paths[path_number] = [data_df.from_stop_I[path_number], data_df.to_stop_I[path_number]]\n",
    "    \n",
    "    for i in range(1,data_df.shape[0]):\n",
    "        \n",
    "        if(data_df.from_stop_I[i] == data_df.to_stop_I[i-1] and\n",
    "            data_df.dep_time_ut[i] == data_df.arr_time_ut[i-1] and\n",
    "            data_df.seq[i] == data_df.seq[i-1] + 1): \n",
    "\n",
    "                paths[path_number].append(data_df.to_stop_I[i])\n",
    "\n",
    "        else:\n",
    "            path_number += 1 \n",
    "            temp = [data_df.from_stop_I[i], data_df.to_stop_I[i]]\n",
    "            paths[path_number]=temp\n",
    "\n",
    "    unique_paths = {}\n",
    "    for k,v in paths.items():\n",
    "        if v not in unique_paths.values():\n",
    "            unique_paths[k]= v  \n",
    "    paths = unique_paths\n",
    "    \n",
    "    for k,v in paths.items():\n",
    "        for cnt1 in range(len(v)):\n",
    "            for cnt2 in range(cnt1+1,len(v)):\n",
    "                net.add_edge(v[cnt1],v[cnt2])"
   ]
  },
  {
   "cell_type": "code",
   "execution_count": 14,
   "metadata": {},
   "outputs": [],
   "source": [
    "def create_network(city):\n",
    "    '''\n",
    "    create network in P-space \n",
    "    (Stops are represented by nodes; they are linked if they can be reached without changing means of transport.)\n",
    "    \n",
    "    '''\n",
    "    nodes_path = 'data/'+city+'/network_nodes.csv'\n",
    "    edges_path = 'data/' + city + '/network_temporal_day.csv'\n",
    "    net = nx.Graph()\n",
    "    load_nodes(net, nodes_path)\n",
    "    load_edges_pspace(net, edges_path)\n",
    "    return net\n",
    "\n",
    "    "
   ]
  },
  {
   "cell_type": "code",
   "execution_count": 6,
   "metadata": {},
   "outputs": [],
   "source": [
    "def get_component_size_dist(net):\n",
    "    \n",
    "    dist = {}\n",
    "    sizes = []\n",
    "    for comp in sorted((net.subgraph(c) for c in nx.connected_components(net)), key = len):\n",
    "        sizes.append(len(comp))\n",
    "    for size in sizes:\n",
    "        if size in dist:\n",
    "            continue\n",
    "        else:\n",
    "            dist[size] = sizes.count(size)\n",
    "    \n",
    "    return dist\n"
   ]
  },
  {
   "cell_type": "code",
   "execution_count": 7,
   "metadata": {},
   "outputs": [],
   "source": [
    "def compute_measures(net, city):\n",
    "    GCC = max((net.subgraph(c) for c in nx.connected_components(net)), key=len)\n",
    "    print( 'Number of nodes: ',  nx.number_of_nodes(net))\n",
    "    print('Number of edges: ', nx.number_of_edges(net))\n",
    "    print('Density: ',nx.density(net))\n",
    "    print('Network diameter: ', nx.diameter(GCC))\n",
    "    print('Average shortest path length: ', nx.average_shortest_path_length(GCC))\n",
    "    print('Average clustering coefficient',  nx.average_clustering(net, count_zeros=True))\n",
    "    print('Average degree: ', 2*net.number_of_edges() / float(net.number_of_nodes()))\n",
    "    print('Number of component in the networek: ', len(listxxxxxxxxxxxxxxxxxxxx))\n",
    "    print( 'Assortativity: ', nx.degree_assortativity_coefficient(net))\n",
    "    print( 'Component distribution', get_component_size_dist(net))\n",
    "    print('Average degree conectivity: ', nx.average_degree_connectivity(net))\n"
   ]
  },
  {
   "cell_type": "code",
   "execution_count": 9,
   "metadata": {},
   "outputs": [],
   "source": [
    "def ccdf(input_list):\n",
    "    input_array = np.array(input_list)\n",
    "    x_points = np.unique(input_array) \n",
    "    cdf = []\n",
    "    normalizer=float(input_array.size) \n",
    "\n",
    "    for x in x_points:\n",
    "        cdf.append((input_array[np.where(input_array >= x)].size)/normalizer)   \n",
    "\n",
    "    return (x_points, np.array(cdf))"
   ]
  },
  {
   "cell_type": "code",
   "execution_count": 10,
   "metadata": {},
   "outputs": [],
   "source": [
    "def plot_ccdfs(x,datavecs, markers, labels):\n",
    "    fig = plt.figure(figsize=(15,10)) \n",
    "    ax = fig.add_subplot(111)\n",
    "    for x_values, y_values, marker, label  in zip(x,datavecs, markers, labels):    \n",
    "        ax.loglog(x_values, y_values, marker, label = label) \n",
    "\n",
    "    ax.set_xlabel('Degree' ) \n",
    "    ax.set_ylabel('1-CDF degree') \n",
    "    ax.legend(loc=0)\n",
    "    plt.savefig(\"Degree_distribution_P_space.pdf\", dpi=150)\n",
    "    plt.show()\n",
    "\n",
    "    return fig"
   ]
  },
  {
   "cell_type": "code",
   "execution_count": 12,
   "metadata": {},
   "outputs": [],
   "source": [
    "def plot_degree_clustering(degrees,clusteringvec, markers, labels):\n",
    "   \n",
    "    fig = plt.figure(figsize=(15,10)) \n",
    "    ax = fig.add_subplot(111)\n",
    "    for degree,clustering, marker, label  in zip(degrees,clusteringvec, markers, labels):    \n",
    "        ax.scatter(degree,clustering, marker ,label = label)\n",
    "    ax.set_xlabel('Nodes Degree (ki)') \n",
    "    ax.set_ylabel('Clustering Coefficient (ci)') \n",
    "    ax.legend(loc=0)\n",
    "    plt.savefig(\"Clustering_coefficient_P_space.pdf\", dpi=150)\n",
    "\n",
    "    plt.show()\n",
    "    return fig"
   ]
  },
  {
   "cell_type": "code",
   "execution_count": 13,
   "metadata": {},
   "outputs": [],
   "source": [
    "def get_centrality_measures(network):\n",
    "    tol = 10**-1\n",
    "    nodes = network.nodes()\n",
    "    degrees = nx.degree_centrality(network)\n",
    "    betweenness = nx.betweenness_centrality(network, normalized=True)\n",
    "    closeness = nx.closeness_centrality(network)\n",
    "    eigenvector_centrality = nx.eigenvector_centrality(network, tol = tol) \n",
    "   \n",
    "    degree = np.array([v for k, v in  sorted(degrees.items(), key=lambda pair: list(nodes).index(pair[0]))])\n",
    "    betweenness =np.array([v for k, v in  sorted(betweenness.items(), key=lambda  item: item[1], reverse = True)])\n",
    "    closeness = np.array([v for k, v in  sorted(closeness.items(), key=lambda  item: item[1], reverse = True)])\n",
    "    eigenvector_centrality = np.array([v for k, v in  sorted(eigenvector_centrality.items(),\n",
    "                                                             key=lambda  item: item[1], reverse = True)])\n",
    "    \n",
    "    \n",
    "    return [degree, betweenness, closeness, eigenvector_centrality]"
   ]
  },
  {
   "cell_type": "code",
   "execution_count": null,
   "metadata": {},
   "outputs": [
    {
     "name": "stdout",
     "output_type": "stream",
     "text": [
      "------------------------------ adelaide ------------------------------\n",
      "Number of nodes:  7548\n",
      "Number of edges:  432817\n",
      "Density:  0.015195957303845908\n",
      "Network diameter:  6\n"
     ]
    }
   ],
   "source": [
    "cities = get_list_cities_names()\n",
    "cities_ccdf_degree = {}\n",
    "cities_degree = {}\n",
    "cities_clustering = {}\n",
    "cities_total_degree = {}\n",
    "for i , city in enumerate(cities):\n",
    "    print(30*'-', city, 30*'-')\n",
    "    net = nx.Graph()\n",
    "    \n",
    "    path_nodes = './data/'+city+'/network_nodes.csv'\n",
    "    load_nodes(net, path_nodes)\n",
    "    \n",
    "    path_edges = './data/'+city+'/network_temporal_day.csv'\n",
    "    load_edges_pspace(net, path_edges)\n",
    "    \n",
    "    create_network(city)\n",
    "    \n",
    "    compute_measures(net, city)\n",
    "    \n",
    "    degrees = [net.degree(node) for node in nx.nodes(net)]\n",
    "    cities_degree[i],cities_ccdf_degree[i]=ccdf(degrees)\n",
    "    clustering = list(nx.clustering(net).values())\n",
    "    cities_clustering[i]= clustering\n",
    "    cities_total_degree[i]= degrees\n",
    "    "
   ]
  },
  {
   "cell_type": "code",
   "execution_count": 14,
   "metadata": {},
   "outputs": [
    {
     "ename": "NameError",
     "evalue": "name 'cities' is not defined",
     "output_type": "error",
     "traceback": [
      "\u001b[1;31m---------------------------------------------------------------------------\u001b[0m",
      "\u001b[1;31mNameError\u001b[0m                                 Traceback (most recent call last)",
      "\u001b[1;32m<ipython-input-14-5cac8592576d>\u001b[0m in \u001b[0;36m<module>\u001b[1;34m\u001b[0m\n\u001b[1;32m----> 1\u001b[1;33m \u001b[0mlabels\u001b[0m \u001b[1;33m=\u001b[0m \u001b[0mcities\u001b[0m\u001b[1;33m\u001b[0m\u001b[1;33m\u001b[0m\u001b[0m\n\u001b[0m\u001b[0;32m      2\u001b[0m markers = [ '-', '-.','.', '--', '-o', '-+','-*','+','_','_-','*','-', '-.','.', '--', \n\u001b[0;32m      3\u001b[0m            '-o', '-+','-*','+','_','_-','*', '--', '-o', '-+','-*','+']\n\u001b[0;32m      4\u001b[0m \u001b[0mdatavecs\u001b[0m \u001b[1;33m=\u001b[0m \u001b[1;33m[\u001b[0m\u001b[0mlist\u001b[0m\u001b[1;33m(\u001b[0m\u001b[0mv\u001b[0m\u001b[1;33m)\u001b[0m \u001b[1;32mfor\u001b[0m \u001b[0mv\u001b[0m \u001b[1;32min\u001b[0m \u001b[0mcities_ccdf_degree\u001b[0m\u001b[1;33m.\u001b[0m\u001b[0mvalues\u001b[0m\u001b[1;33m(\u001b[0m\u001b[1;33m)\u001b[0m\u001b[1;33m]\u001b[0m\u001b[1;33m\u001b[0m\u001b[1;33m\u001b[0m\u001b[0m\n\u001b[0;32m      5\u001b[0m \u001b[0mx\u001b[0m \u001b[1;33m=\u001b[0m \u001b[1;33m[\u001b[0m\u001b[0mlist\u001b[0m\u001b[1;33m(\u001b[0m\u001b[0mv\u001b[0m\u001b[1;33m)\u001b[0m \u001b[1;32mfor\u001b[0m \u001b[0mv\u001b[0m \u001b[1;32min\u001b[0m \u001b[0mcities_degree\u001b[0m\u001b[1;33m.\u001b[0m\u001b[0mvalues\u001b[0m\u001b[1;33m(\u001b[0m\u001b[1;33m)\u001b[0m\u001b[1;33m]\u001b[0m\u001b[1;33m\u001b[0m\u001b[1;33m\u001b[0m\u001b[0m\n",
      "\u001b[1;31mNameError\u001b[0m: name 'cities' is not defined"
     ]
    }
   ],
   "source": [
    "labels = cities\n",
    "markers = [ '-', '-.','.', '--', '-o', '-+','-*','+','_','_-','*','-', '-.','.', '--', \n",
    "           '-o', '-+','-*','+','_','_-','*', '--', '-o', '-+','-*','+']\n",
    "datavecs = [list(v) for v in cities_ccdf_degree.values()]\n",
    "x = [list(v) for v in cities_degree.values()]\n",
    "plot_ccdfs(x,datavecs, markers, labels);"
   ]
  },
  {
   "cell_type": "code",
   "execution_count": 13,
   "metadata": {},
   "outputs": [
    {
     "ename": "NameError",
     "evalue": "name 'cities' is not defined",
     "output_type": "error",
     "traceback": [
      "\u001b[1;31m---------------------------------------------------------------------------\u001b[0m",
      "\u001b[1;31mNameError\u001b[0m                                 Traceback (most recent call last)",
      "\u001b[1;32m<ipython-input-13-64829ab0116a>\u001b[0m in \u001b[0;36m<module>\u001b[1;34m\u001b[0m\n\u001b[1;32m----> 1\u001b[1;33m \u001b[0mlabels\u001b[0m \u001b[1;33m=\u001b[0m \u001b[0mcities\u001b[0m\u001b[1;33m\u001b[0m\u001b[1;33m\u001b[0m\u001b[0m\n\u001b[0m\u001b[0;32m      2\u001b[0m markers =[ '-', '-.','.', '--', '-o', '-+','-*','+','_','_-','*','-', '-.','.', '--', \n\u001b[0;32m      3\u001b[0m            '-o', '-+','-*','+','_','_-','*', '--', '-o', '-+','-*','+']\n\u001b[0;32m      4\u001b[0m \u001b[0mclusteringvec\u001b[0m \u001b[1;33m=\u001b[0m \u001b[1;33m[\u001b[0m\u001b[0mlist\u001b[0m\u001b[1;33m(\u001b[0m\u001b[0mv\u001b[0m\u001b[1;33m)\u001b[0m \u001b[1;32mfor\u001b[0m \u001b[0mv\u001b[0m \u001b[1;32min\u001b[0m \u001b[0mcities_clustering\u001b[0m\u001b[1;33m.\u001b[0m\u001b[0mvalues\u001b[0m\u001b[1;33m(\u001b[0m\u001b[1;33m)\u001b[0m\u001b[1;33m]\u001b[0m\u001b[1;33m\u001b[0m\u001b[1;33m\u001b[0m\u001b[0m\n\u001b[0;32m      5\u001b[0m \u001b[0mx\u001b[0m \u001b[1;33m=\u001b[0m \u001b[1;33m[\u001b[0m\u001b[0mlist\u001b[0m\u001b[1;33m(\u001b[0m\u001b[0mv\u001b[0m\u001b[1;33m)\u001b[0m \u001b[1;32mfor\u001b[0m \u001b[0mv\u001b[0m \u001b[1;32min\u001b[0m \u001b[0mcities_total_degree\u001b[0m\u001b[1;33m.\u001b[0m\u001b[0mvalues\u001b[0m\u001b[1;33m(\u001b[0m\u001b[1;33m)\u001b[0m\u001b[1;33m]\u001b[0m\u001b[1;33m\u001b[0m\u001b[1;33m\u001b[0m\u001b[0m\n",
      "\u001b[1;31mNameError\u001b[0m: name 'cities' is not defined"
     ]
    }
   ],
   "source": [
    "labels = cities\n",
    "markers =[ '-', '-.','.', '--', '-o', '-+','-*','+','_','_-','*','-', '-.','.', '--', \n",
    "           '-o', '-+','-*','+','_','_-','*', '--', '-o', '-+','-*','+']\n",
    "clusteringvec = [list(v) for v in cities_clustering.values()]\n",
    "x = [list(v) for v in cities_total_degree.values()]\n",
    "plot_degree_clustering(x,clusteringvec,markers, labels);"
   ]
  },
  {
   "cell_type": "code",
   "execution_count": 90,
   "metadata": {},
   "outputs": [],
   "source": []
  },
  {
   "cell_type": "code",
   "execution_count": null,
   "metadata": {},
   "outputs": [],
   "source": []
  }
 ],
 "metadata": {
  "kernelspec": {
   "display_name": "Python 3",
   "language": "python",
   "name": "python3"
  },
  "language_info": {
   "codemirror_mode": {
    "name": "ipython",
    "version": 3
   },
   "file_extension": ".py",
   "mimetype": "text/x-python",
   "name": "python",
   "nbconvert_exporter": "python",
   "pygments_lexer": "ipython3",
   "version": "3.8.4"
  }
 },
 "nbformat": 4,
 "nbformat_minor": 2
}
